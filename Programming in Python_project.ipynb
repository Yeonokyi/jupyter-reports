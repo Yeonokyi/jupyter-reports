{
 "cells": [
  {
   "cell_type": "markdown",
   "metadata": {},
   "source": [
    "# Title: Exploring the Relationship Between Disney Movie Profits and Director Selection\n",
    "## Author Name: Yeonok Yi"
   ]
  },
  {
   "cell_type": "markdown",
   "metadata": {},
   "source": [
    "### **Introduction**\n",
    "\n",
    "**Question(s) of interests**\n",
    "\n",
    "This analysis aims to explore the connection between Disney movie profits and the directors involved. Notably, certain directors appear to be repeatedly hired by Disney. This investigation seeks to understand if a director's track record of delivering high box office returns influences their rehiring by Disney for future projects. I would expect the director who made more gross profit to get hired more than others.\n",
    "\n",
    "**Dataset description**\n",
    "\n",
    "I was given 5 data sets, but for this analysis, emphasis is placed solely on the information about directors and gross profits. The selected datasets, namely 'disney_movies_total_gross.csv' and 'disney-director.csv,' are essential for the analysis. Their descriptions are outlined below:\n",
    "- disney_movies_total_gross.csv\n",
    "    - This dataset encompasses fundamental movie details such as titles, release dates, genres, gross profits, and more. For this analysis, only the movie titles and corresponding gross profits will be used.\n",
    "- disney-director.csv\n",
    "    - A simple dataset with movie titles and their directors. This dataset is essential to connect between directors and gross profit which I want to check."
   ]
  },
  {
   "cell_type": "markdown",
   "metadata": {},
   "source": [
    "### **Methods & Results**\n",
    "\n",
    "As the primary focus lies in establishing a correlation between directors and the gross profits generated from movies, the analysis will rely on tables containing information specifically about gross profits and directors.\n",
    "\n",
    "To commence the analysis, the initial step involves the importation of these essential libraries and tables followed by conducting basic visualizations for further insights."
   ]
  },
  {
   "cell_type": "code",
   "execution_count": 1,
   "metadata": {},
   "outputs": [],
   "source": [
    "# Import libraries\n",
    "import altair as alt\n",
    "import pandas as pd"
   ]
  },
  {
   "cell_type": "code",
   "execution_count": 2,
   "metadata": {},
   "outputs": [],
   "source": [
    "# import all the required files\n",
    "gross = pd.read_csv(\"data/disney_movies_total_gross.csv\")\n",
    "director = pd.read_csv(\"data/disney-director.csv\")"
   ]
  },
  {
   "cell_type": "markdown",
   "metadata": {},
   "source": [
    "Lets see what the tables look like."
   ]
  },
  {
   "cell_type": "code",
   "execution_count": 3,
   "metadata": {},
   "outputs": [
    {
     "data": {
      "text/html": [
       "<div>\n",
       "<style scoped>\n",
       "    .dataframe tbody tr th:only-of-type {\n",
       "        vertical-align: middle;\n",
       "    }\n",
       "\n",
       "    .dataframe tbody tr th {\n",
       "        vertical-align: top;\n",
       "    }\n",
       "\n",
       "    .dataframe thead th {\n",
       "        text-align: right;\n",
       "    }\n",
       "</style>\n",
       "<table border=\"1\" class=\"dataframe\">\n",
       "  <thead>\n",
       "    <tr style=\"text-align: right;\">\n",
       "      <th></th>\n",
       "      <th>movie_title</th>\n",
       "      <th>release_date</th>\n",
       "      <th>genre</th>\n",
       "      <th>MPAA_rating</th>\n",
       "      <th>total_gross</th>\n",
       "      <th>inflation_adjusted_gross</th>\n",
       "    </tr>\n",
       "  </thead>\n",
       "  <tbody>\n",
       "    <tr>\n",
       "      <th>0</th>\n",
       "      <td>Snow White and the Seven Dwarfs</td>\n",
       "      <td>Dec 21, 1937</td>\n",
       "      <td>Musical</td>\n",
       "      <td>G</td>\n",
       "      <td>$184,925,485</td>\n",
       "      <td>$5,228,953,251</td>\n",
       "    </tr>\n",
       "    <tr>\n",
       "      <th>1</th>\n",
       "      <td>Pinocchio</td>\n",
       "      <td>Feb 9, 1940</td>\n",
       "      <td>Adventure</td>\n",
       "      <td>G</td>\n",
       "      <td>$84,300,000</td>\n",
       "      <td>$2,188,229,052</td>\n",
       "    </tr>\n",
       "    <tr>\n",
       "      <th>2</th>\n",
       "      <td>Fantasia</td>\n",
       "      <td>Nov 13, 1940</td>\n",
       "      <td>Musical</td>\n",
       "      <td>G</td>\n",
       "      <td>$83,320,000</td>\n",
       "      <td>$2,187,090,808</td>\n",
       "    </tr>\n",
       "    <tr>\n",
       "      <th>3</th>\n",
       "      <td>Song of the South</td>\n",
       "      <td>Nov 12, 1946</td>\n",
       "      <td>Adventure</td>\n",
       "      <td>G</td>\n",
       "      <td>$65,000,000</td>\n",
       "      <td>$1,078,510,579</td>\n",
       "    </tr>\n",
       "    <tr>\n",
       "      <th>4</th>\n",
       "      <td>Cinderella</td>\n",
       "      <td>Feb 15, 1950</td>\n",
       "      <td>Drama</td>\n",
       "      <td>G</td>\n",
       "      <td>$85,000,000</td>\n",
       "      <td>$920,608,730</td>\n",
       "    </tr>\n",
       "  </tbody>\n",
       "</table>\n",
       "</div>"
      ],
      "text/plain": [
       "                       movie_title  release_date      genre MPAA_rating  \\\n",
       "0  Snow White and the Seven Dwarfs  Dec 21, 1937    Musical           G   \n",
       "1                        Pinocchio   Feb 9, 1940  Adventure           G   \n",
       "2                         Fantasia  Nov 13, 1940    Musical           G   \n",
       "3                Song of the South  Nov 12, 1946  Adventure           G   \n",
       "4                       Cinderella  Feb 15, 1950      Drama           G   \n",
       "\n",
       "    total_gross inflation_adjusted_gross  \n",
       "0  $184,925,485           $5,228,953,251  \n",
       "1   $84,300,000           $2,188,229,052  \n",
       "2   $83,320,000           $2,187,090,808  \n",
       "3   $65,000,000           $1,078,510,579  \n",
       "4   $85,000,000             $920,608,730  "
      ]
     },
     "execution_count": 3,
     "metadata": {},
     "output_type": "execute_result"
    }
   ],
   "source": [
    "gross.head()"
   ]
  },
  {
   "cell_type": "code",
   "execution_count": 4,
   "metadata": {},
   "outputs": [
    {
     "data": {
      "text/html": [
       "<div>\n",
       "<style scoped>\n",
       "    .dataframe tbody tr th:only-of-type {\n",
       "        vertical-align: middle;\n",
       "    }\n",
       "\n",
       "    .dataframe tbody tr th {\n",
       "        vertical-align: top;\n",
       "    }\n",
       "\n",
       "    .dataframe thead th {\n",
       "        text-align: right;\n",
       "    }\n",
       "</style>\n",
       "<table border=\"1\" class=\"dataframe\">\n",
       "  <thead>\n",
       "    <tr style=\"text-align: right;\">\n",
       "      <th></th>\n",
       "      <th>name</th>\n",
       "      <th>director</th>\n",
       "    </tr>\n",
       "  </thead>\n",
       "  <tbody>\n",
       "    <tr>\n",
       "      <th>0</th>\n",
       "      <td>Snow White and the Seven Dwarfs</td>\n",
       "      <td>David Hand</td>\n",
       "    </tr>\n",
       "    <tr>\n",
       "      <th>1</th>\n",
       "      <td>Pinocchio</td>\n",
       "      <td>Ben Sharpsteen</td>\n",
       "    </tr>\n",
       "    <tr>\n",
       "      <th>2</th>\n",
       "      <td>Fantasia</td>\n",
       "      <td>full credits</td>\n",
       "    </tr>\n",
       "    <tr>\n",
       "      <th>3</th>\n",
       "      <td>Dumbo</td>\n",
       "      <td>Ben Sharpsteen</td>\n",
       "    </tr>\n",
       "    <tr>\n",
       "      <th>4</th>\n",
       "      <td>Bambi</td>\n",
       "      <td>David Hand</td>\n",
       "    </tr>\n",
       "  </tbody>\n",
       "</table>\n",
       "</div>"
      ],
      "text/plain": [
       "                              name        director\n",
       "0  Snow White and the Seven Dwarfs      David Hand\n",
       "1                        Pinocchio  Ben Sharpsteen\n",
       "2                         Fantasia    full credits\n",
       "3                            Dumbo  Ben Sharpsteen\n",
       "4                            Bambi      David Hand"
      ]
     },
     "execution_count": 4,
     "metadata": {},
     "output_type": "execute_result"
    }
   ],
   "source": [
    "director.head()"
   ]
  },
  {
   "cell_type": "markdown",
   "metadata": {},
   "source": [
    "This time, we will get some other information about the sets table."
   ]
  },
  {
   "cell_type": "code",
   "execution_count": 5,
   "metadata": {},
   "outputs": [
    {
     "name": "stdout",
     "output_type": "stream",
     "text": [
      "<class 'pandas.core.frame.DataFrame'>\n",
      "RangeIndex: 579 entries, 0 to 578\n",
      "Data columns (total 6 columns):\n",
      " #   Column                    Non-Null Count  Dtype \n",
      "---  ------                    --------------  ----- \n",
      " 0   movie_title               579 non-null    object\n",
      " 1   release_date              579 non-null    object\n",
      " 2   genre                     562 non-null    object\n",
      " 3   MPAA_rating               523 non-null    object\n",
      " 4   total_gross               579 non-null    object\n",
      " 5   inflation_adjusted_gross  579 non-null    object\n",
      "dtypes: object(6)\n",
      "memory usage: 27.3+ KB\n"
     ]
    }
   ],
   "source": [
    "gross.info()"
   ]
  },
  {
   "cell_type": "markdown",
   "metadata": {},
   "source": [
    "The sets table has  579 rows and  6 columns. **Every movie_title has a total_gross**. Genre and MPAA_rating have some null data, but it won't affect my analysis today."
   ]
  },
  {
   "cell_type": "code",
   "execution_count": 6,
   "metadata": {},
   "outputs": [
    {
     "name": "stdout",
     "output_type": "stream",
     "text": [
      "<class 'pandas.core.frame.DataFrame'>\n",
      "RangeIndex: 56 entries, 0 to 55\n",
      "Data columns (total 2 columns):\n",
      " #   Column    Non-Null Count  Dtype \n",
      "---  ------    --------------  ----- \n",
      " 0   name      56 non-null     object\n",
      " 1   director  56 non-null     object\n",
      "dtypes: object(2)\n",
      "memory usage: 1.0+ KB\n"
     ]
    }
   ],
   "source": [
    "director.info()"
   ]
  },
  {
   "cell_type": "markdown",
   "metadata": {},
   "source": [
    "The sets table has  56 rows and  2 columns. There is **no null data** on namd and director"
   ]
  },
  {
   "cell_type": "markdown",
   "metadata": {},
   "source": [
    "\n",
    "I just need the title and gross from the gross table. To do this, I will use **loc** to make it easy to use to find the connection with director information."
   ]
  },
  {
   "cell_type": "code",
   "execution_count": 7,
   "metadata": {},
   "outputs": [
    {
     "data": {
      "text/html": [
       "<div>\n",
       "<style scoped>\n",
       "    .dataframe tbody tr th:only-of-type {\n",
       "        vertical-align: middle;\n",
       "    }\n",
       "\n",
       "    .dataframe tbody tr th {\n",
       "        vertical-align: top;\n",
       "    }\n",
       "\n",
       "    .dataframe thead th {\n",
       "        text-align: right;\n",
       "    }\n",
       "</style>\n",
       "<table border=\"1\" class=\"dataframe\">\n",
       "  <thead>\n",
       "    <tr style=\"text-align: right;\">\n",
       "      <th></th>\n",
       "      <th>movie_title</th>\n",
       "      <th>total_gross</th>\n",
       "    </tr>\n",
       "  </thead>\n",
       "  <tbody>\n",
       "    <tr>\n",
       "      <th>0</th>\n",
       "      <td>Snow White and the Seven Dwarfs</td>\n",
       "      <td>$184,925,485</td>\n",
       "    </tr>\n",
       "    <tr>\n",
       "      <th>1</th>\n",
       "      <td>Pinocchio</td>\n",
       "      <td>$84,300,000</td>\n",
       "    </tr>\n",
       "    <tr>\n",
       "      <th>2</th>\n",
       "      <td>Fantasia</td>\n",
       "      <td>$83,320,000</td>\n",
       "    </tr>\n",
       "    <tr>\n",
       "      <th>3</th>\n",
       "      <td>Song of the South</td>\n",
       "      <td>$65,000,000</td>\n",
       "    </tr>\n",
       "    <tr>\n",
       "      <th>4</th>\n",
       "      <td>Cinderella</td>\n",
       "      <td>$85,000,000</td>\n",
       "    </tr>\n",
       "  </tbody>\n",
       "</table>\n",
       "</div>"
      ],
      "text/plain": [
       "                       movie_title   total_gross\n",
       "0  Snow White and the Seven Dwarfs  $184,925,485\n",
       "1                        Pinocchio   $84,300,000\n",
       "2                         Fantasia   $83,320,000\n",
       "3                Song of the South   $65,000,000\n",
       "4                       Cinderella   $85,000,000"
      ]
     },
     "execution_count": 7,
     "metadata": {},
     "output_type": "execute_result"
    }
   ],
   "source": [
    "# group by year and compute the average number of parts.\n",
    "set_gross=gross.loc[:,[\"movie_title\", \"total_gross\",]]\n",
    "\n",
    "# check the table to see if I made it righ.\n",
    "set_gross.head()"
   ]
  },
  {
   "cell_type": "markdown",
   "metadata": {},
   "source": [
    "Since we removed all the unrelated data, time to **merge** two tables."
   ]
  },
  {
   "cell_type": "code",
   "execution_count": 8,
   "metadata": {},
   "outputs": [
    {
     "data": {
      "text/html": [
       "<div>\n",
       "<style scoped>\n",
       "    .dataframe tbody tr th:only-of-type {\n",
       "        vertical-align: middle;\n",
       "    }\n",
       "\n",
       "    .dataframe tbody tr th {\n",
       "        vertical-align: top;\n",
       "    }\n",
       "\n",
       "    .dataframe thead th {\n",
       "        text-align: right;\n",
       "    }\n",
       "</style>\n",
       "<table border=\"1\" class=\"dataframe\">\n",
       "  <thead>\n",
       "    <tr style=\"text-align: right;\">\n",
       "      <th></th>\n",
       "      <th>movie_title</th>\n",
       "      <th>total_gross</th>\n",
       "      <th>director</th>\n",
       "    </tr>\n",
       "  </thead>\n",
       "  <tbody>\n",
       "    <tr>\n",
       "      <th>0</th>\n",
       "      <td>Snow White and the Seven Dwarfs</td>\n",
       "      <td>$184,925,485</td>\n",
       "      <td>David Hand</td>\n",
       "    </tr>\n",
       "    <tr>\n",
       "      <th>1</th>\n",
       "      <td>Pinocchio</td>\n",
       "      <td>$84,300,000</td>\n",
       "      <td>Ben Sharpsteen</td>\n",
       "    </tr>\n",
       "    <tr>\n",
       "      <th>2</th>\n",
       "      <td>Fantasia</td>\n",
       "      <td>$83,320,000</td>\n",
       "      <td>full credits</td>\n",
       "    </tr>\n",
       "    <tr>\n",
       "      <th>3</th>\n",
       "      <td>Cinderella</td>\n",
       "      <td>$85,000,000</td>\n",
       "      <td>Wilfred Jackson</td>\n",
       "    </tr>\n",
       "    <tr>\n",
       "      <th>4</th>\n",
       "      <td>Cinderella</td>\n",
       "      <td>$201,151,353</td>\n",
       "      <td>Wilfred Jackson</td>\n",
       "    </tr>\n",
       "  </tbody>\n",
       "</table>\n",
       "</div>"
      ],
      "text/plain": [
       "                       movie_title   total_gross         director\n",
       "0  Snow White and the Seven Dwarfs  $184,925,485       David Hand\n",
       "1                        Pinocchio   $84,300,000   Ben Sharpsteen\n",
       "2                         Fantasia   $83,320,000     full credits\n",
       "3                       Cinderella   $85,000,000  Wilfred Jackson\n",
       "4                       Cinderella  $201,151,353  Wilfred Jackson"
      ]
     },
     "execution_count": 8,
     "metadata": {},
     "output_type": "execute_result"
    }
   ],
   "source": [
    "# Merge two tables using an inner join to focus on the relationship between directors and gross profits.\n",
    "# Eliminate duplicated information by dropping the 'name' column from the director table before merging the datasets.\n",
    "\n",
    "profitable_director = (set_gross.merge(director, \n",
    "                                  left_on='movie_title', \n",
    "                                  right_on='name', \n",
    "                                  how='inner', \n",
    "                                  indicator=True).drop(columns=['name', '_merge']))\n",
    "profitable_director.head()"
   ]
  },
  {
   "cell_type": "markdown",
   "metadata": {},
   "source": [
    "Since the total_gross column's D-type is object. I'll need to change it to **float**"
   ]
  },
  {
   "cell_type": "code",
   "execution_count": 9,
   "metadata": {},
   "outputs": [
    {
     "name": "stdout",
     "output_type": "stream",
     "text": [
      "<class 'pandas.core.frame.DataFrame'>\n",
      "Int64Index: 49 entries, 0 to 48\n",
      "Data columns (total 3 columns):\n",
      " #   Column       Non-Null Count  Dtype  \n",
      "---  ------       --------------  -----  \n",
      " 0   movie_title  49 non-null     object \n",
      " 1   total_gross  49 non-null     float64\n",
      " 2   director     49 non-null     object \n",
      "dtypes: float64(1), object(2)\n",
      "memory usage: 1.5+ KB\n"
     ]
    }
   ],
   "source": [
    "# Change the D-type with astype function\n",
    "profitable_director['total_gross'] = profitable_director['total_gross'].replace('[$,]', '', regex=True).astype(float)\n",
    "\n",
    "#Let's check if I did right.\n",
    "profitable_director.info()"
   ]
  },
  {
   "cell_type": "markdown",
   "metadata": {},
   "source": [
    "Since the total_gross is float, I can use it as a number now."
   ]
  },
  {
   "cell_type": "markdown",
   "metadata": {},
   "source": [
    "As an initial step in visualization, let's examine the **number of movies each director has made**.\n",
    "To achieve this, I will employ the groupby function to group the data by director and then use the count function to determine the quantity of movies attributed to each director."
   ]
  },
  {
   "cell_type": "code",
   "execution_count": 10,
   "metadata": {},
   "outputs": [
    {
     "data": {
      "text/html": [
       "<div>\n",
       "<style scoped>\n",
       "    .dataframe tbody tr th:only-of-type {\n",
       "        vertical-align: middle;\n",
       "    }\n",
       "\n",
       "    .dataframe tbody tr th {\n",
       "        vertical-align: top;\n",
       "    }\n",
       "\n",
       "    .dataframe thead th {\n",
       "        text-align: right;\n",
       "    }\n",
       "</style>\n",
       "<table border=\"1\" class=\"dataframe\">\n",
       "  <thead>\n",
       "    <tr style=\"text-align: right;\">\n",
       "      <th></th>\n",
       "      <th>director</th>\n",
       "      <th>movie_title</th>\n",
       "    </tr>\n",
       "  </thead>\n",
       "  <tbody>\n",
       "    <tr>\n",
       "      <th>0</th>\n",
       "      <td>Wolfgang Reitherman</td>\n",
       "      <td>9</td>\n",
       "    </tr>\n",
       "    <tr>\n",
       "      <th>1</th>\n",
       "      <td>Ron Clements</td>\n",
       "      <td>7</td>\n",
       "    </tr>\n",
       "    <tr>\n",
       "      <th>2</th>\n",
       "      <td>Gary Trousdale</td>\n",
       "      <td>3</td>\n",
       "    </tr>\n",
       "    <tr>\n",
       "      <th>3</th>\n",
       "      <td>Mark Dindal</td>\n",
       "      <td>2</td>\n",
       "    </tr>\n",
       "    <tr>\n",
       "      <th>4</th>\n",
       "      <td>Chris Buck</td>\n",
       "      <td>2</td>\n",
       "    </tr>\n",
       "    <tr>\n",
       "      <th>5</th>\n",
       "      <td>Wilfred Jackson</td>\n",
       "      <td>2</td>\n",
       "    </tr>\n",
       "    <tr>\n",
       "      <th>6</th>\n",
       "      <td>Clyde Geronimi</td>\n",
       "      <td>2</td>\n",
       "    </tr>\n",
       "    <tr>\n",
       "      <th>7</th>\n",
       "      <td>Stephen J. Anderson</td>\n",
       "      <td>2</td>\n",
       "    </tr>\n",
       "    <tr>\n",
       "      <th>8</th>\n",
       "      <td>Mike Gabriel</td>\n",
       "      <td>2</td>\n",
       "    </tr>\n",
       "    <tr>\n",
       "      <th>9</th>\n",
       "      <td>Ralph Zondag</td>\n",
       "      <td>1</td>\n",
       "    </tr>\n",
       "  </tbody>\n",
       "</table>\n",
       "</div>"
      ],
      "text/plain": [
       "              director  movie_title\n",
       "0  Wolfgang Reitherman            9\n",
       "1         Ron Clements            7\n",
       "2       Gary Trousdale            3\n",
       "3          Mark Dindal            2\n",
       "4           Chris Buck            2\n",
       "5      Wilfred Jackson            2\n",
       "6       Clyde Geronimi            2\n",
       "7  Stephen J. Anderson            2\n",
       "8         Mike Gabriel            2\n",
       "9         Ralph Zondag            1"
      ]
     },
     "execution_count": 10,
     "metadata": {},
     "output_type": "execute_result"
    }
   ],
   "source": [
    "# Count and sort in descending order to see if there are a lot of directors who made movies more than once.\n",
    "count_movie = profitable_director.groupby(['director'])['movie_title'].count().sort_values(ascending=False)\n",
    "\n",
    "# Reset the index so we can plot using altair\n",
    "count_movie = count_movie.reset_index()\n",
    "count_movie.head(10)"
   ]
  },
  {
   "cell_type": "markdown",
   "metadata": {},
   "source": [
    "I confirmed Disney has hired some directors over and over again with this table. Maximum 9 times to minimum 2 times.\n",
    "\n",
    "Now that we can generate a **bar plot** to visualize it."
   ]
  },
  {
   "cell_type": "code",
   "execution_count": 11,
   "metadata": {},
   "outputs": [
    {
     "data": {
      "text/html": [
       "\n",
       "<div id=\"altair-viz-5098a7942fed42a4b77ef1503c5c9f91\"></div>\n",
       "<script type=\"text/javascript\">\n",
       "  (function(spec, embedOpt){\n",
       "    let outputDiv = document.currentScript.previousElementSibling;\n",
       "    if (outputDiv.id !== \"altair-viz-5098a7942fed42a4b77ef1503c5c9f91\") {\n",
       "      outputDiv = document.getElementById(\"altair-viz-5098a7942fed42a4b77ef1503c5c9f91\");\n",
       "    }\n",
       "    const paths = {\n",
       "      \"vega\": \"https://cdn.jsdelivr.net/npm//vega@5?noext\",\n",
       "      \"vega-lib\": \"https://cdn.jsdelivr.net/npm//vega-lib?noext\",\n",
       "      \"vega-lite\": \"https://cdn.jsdelivr.net/npm//vega-lite@4.8.1?noext\",\n",
       "      \"vega-embed\": \"https://cdn.jsdelivr.net/npm//vega-embed@6?noext\",\n",
       "    };\n",
       "\n",
       "    function loadScript(lib) {\n",
       "      return new Promise(function(resolve, reject) {\n",
       "        var s = document.createElement('script');\n",
       "        s.src = paths[lib];\n",
       "        s.async = true;\n",
       "        s.onload = () => resolve(paths[lib]);\n",
       "        s.onerror = () => reject(`Error loading script: ${paths[lib]}`);\n",
       "        document.getElementsByTagName(\"head\")[0].appendChild(s);\n",
       "      });\n",
       "    }\n",
       "\n",
       "    function showError(err) {\n",
       "      outputDiv.innerHTML = `<div class=\"error\" style=\"color:red;\">${err}</div>`;\n",
       "      throw err;\n",
       "    }\n",
       "\n",
       "    function displayChart(vegaEmbed) {\n",
       "      vegaEmbed(outputDiv, spec, embedOpt)\n",
       "        .catch(err => showError(`Javascript Error: ${err.message}<br>This usually means there's a typo in your chart specification. See the javascript console for the full traceback.`));\n",
       "    }\n",
       "\n",
       "    if(typeof define === \"function\" && define.amd) {\n",
       "      requirejs.config({paths});\n",
       "      require([\"vega-embed\"], displayChart, err => showError(`Error loading script: ${err.message}`));\n",
       "    } else if (typeof vegaEmbed === \"function\") {\n",
       "      displayChart(vegaEmbed);\n",
       "    } else {\n",
       "      loadScript(\"vega\")\n",
       "        .then(() => loadScript(\"vega-lite\"))\n",
       "        .then(() => loadScript(\"vega-embed\"))\n",
       "        .catch(showError)\n",
       "        .then(() => displayChart(vegaEmbed));\n",
       "    }\n",
       "  })({\"config\": {\"view\": {\"continuousWidth\": 400, \"continuousHeight\": 300}}, \"data\": {\"name\": \"data-a9ce70c15b2f190ba84715f85a12440b\"}, \"mark\": {\"type\": \"bar\", \"color\": \"green\", \"opacity\": 0.5}, \"encoding\": {\"x\": {\"type\": \"nominal\", \"field\": \"director\"}, \"y\": {\"type\": \"quantitative\", \"aggregate\": \"count\", \"title\": \"Numbers of Movies\"}}, \"height\": 300, \"title\": \"Number of movies each director has made\", \"width\": 500, \"$schema\": \"https://vega.github.io/schema/vega-lite/v4.8.1.json\", \"datasets\": {\"data-a9ce70c15b2f190ba84715f85a12440b\": [{\"movie_title\": \"Snow White and the Seven Dwarfs\", \"total_gross\": 184925485.0, \"director\": \"David Hand\"}, {\"movie_title\": \"Pinocchio\", \"total_gross\": 84300000.0, \"director\": \"Ben Sharpsteen\"}, {\"movie_title\": \"Fantasia\", \"total_gross\": 83320000.0, \"director\": \"full credits\"}, {\"movie_title\": \"Cinderella\", \"total_gross\": 85000000.0, \"director\": \"Wilfred Jackson\"}, {\"movie_title\": \"Cinderella\", \"total_gross\": 201151353.0, \"director\": \"Wilfred Jackson\"}, {\"movie_title\": \"Lady and the Tramp\", \"total_gross\": 93600000.0, \"director\": \"Hamilton Luske\"}, {\"movie_title\": \"Sleeping Beauty\", \"total_gross\": 9464608.0, \"director\": \"Clyde Geronimi\"}, {\"movie_title\": \"101 Dalmatians\", \"total_gross\": 153000000.0, \"director\": \"Wolfgang Reitherman\"}, {\"movie_title\": \"101 Dalmatians\", \"total_gross\": 136189294.0, \"director\": \"Wolfgang Reitherman\"}, {\"movie_title\": \"The Sword in the Stone\", \"total_gross\": 22182353.0, \"director\": \"Wolfgang Reitherman\"}, {\"movie_title\": \"The Jungle Book\", \"total_gross\": 141843000.0, \"director\": \"Wolfgang Reitherman\"}, {\"movie_title\": \"The Jungle Book\", \"total_gross\": 44342956.0, \"director\": \"Wolfgang Reitherman\"}, {\"movie_title\": \"The Jungle Book\", \"total_gross\": 364001123.0, \"director\": \"Wolfgang Reitherman\"}, {\"movie_title\": \"The Aristocats\", \"total_gross\": 55675257.0, \"director\": \"Wolfgang Reitherman\"}, {\"movie_title\": \"The Many Adventures of Winnie the Pooh\", \"total_gross\": 0.0, \"director\": \"Wolfgang Reitherman\"}, {\"movie_title\": \"The Rescuers\", \"total_gross\": 48775599.0, \"director\": \"Wolfgang Reitherman\"}, {\"movie_title\": \"The Fox and the Hound\", \"total_gross\": 43899231.0, \"director\": \"Art Stevens\"}, {\"movie_title\": \"The Black Cauldron\", \"total_gross\": 21288692.0, \"director\": \"Ted Berman\"}, {\"movie_title\": \"The Great Mouse Detective\", \"total_gross\": 23605534.0, \"director\": \"Ron Clements\"}, {\"movie_title\": \"Oliver & Company\", \"total_gross\": 49576671.0, \"director\": \"George Scribner\"}, {\"movie_title\": \"The Little Mermaid\", \"total_gross\": 111543479.0, \"director\": \"Ron Clements\"}, {\"movie_title\": \"The Rescuers Down Under\", \"total_gross\": 27931461.0, \"director\": \"Mike Gabriel\"}, {\"movie_title\": \"Beauty and the Beast\", \"total_gross\": 218951625.0, \"director\": \"Gary Trousdale\"}, {\"movie_title\": \"Aladdin\", \"total_gross\": 217350219.0, \"director\": \"Ron Clements\"}, {\"movie_title\": \"The Lion King\", \"total_gross\": 422780140.0, \"director\": \"Roger Allers\"}, {\"movie_title\": \"Pocahontas\", \"total_gross\": 141579773.0, \"director\": \"Mike Gabriel\"}, {\"movie_title\": \"The Hunchback of Notre Dame\", \"total_gross\": 100138851.0, \"director\": \"Gary Trousdale\"}, {\"movie_title\": \"Hercules\", \"total_gross\": 99112101.0, \"director\": \"Ron Clements\"}, {\"movie_title\": \"Mulan\", \"total_gross\": 120620254.0, \"director\": \"Barry Cook\"}, {\"movie_title\": \"Tarzan\", \"total_gross\": 171091819.0, \"director\": \"Chris Buck\"}, {\"movie_title\": \"Dinosaur\", \"total_gross\": 137748063.0, \"director\": \"Ralph Zondag\"}, {\"movie_title\": \"The Emperor's New Groove\", \"total_gross\": 89296573.0, \"director\": \"Mark Dindal\"}, {\"movie_title\": \"Atlantis: The Lost Empire\", \"total_gross\": 84052762.0, \"director\": \"Gary Trousdale\"}, {\"movie_title\": \"Lilo & Stitch\", \"total_gross\": 145771527.0, \"director\": \"Chris Sanders\"}, {\"movie_title\": \"Treasure Planet\", \"total_gross\": 38120554.0, \"director\": \"Ron Clements\"}, {\"movie_title\": \"Brother Bear\", \"total_gross\": 85336277.0, \"director\": \"Robert Walker\"}, {\"movie_title\": \"Home on the Range\", \"total_gross\": 50026353.0, \"director\": \"Will Finn\"}, {\"movie_title\": \"Chicken Little\", \"total_gross\": 135386665.0, \"director\": \"Mark Dindal\"}, {\"movie_title\": \"Meet the Robinsons\", \"total_gross\": 97822171.0, \"director\": \"Stephen J. Anderson\"}, {\"movie_title\": \"Bolt\", \"total_gross\": 114053759.0, \"director\": \"Chris Williams\"}, {\"movie_title\": \"The Princess and the Frog\", \"total_gross\": 104400899.0, \"director\": \"Ron Clements\"}, {\"movie_title\": \"Alice in Wonderland\", \"total_gross\": 334191110.0, \"director\": \"Clyde Geronimi\"}, {\"movie_title\": \"Tangled\", \"total_gross\": 200821936.0, \"director\": \"Nathan Greno\"}, {\"movie_title\": \"Winnie the Pooh\", \"total_gross\": 26692846.0, \"director\": \"Stephen J. Anderson\"}, {\"movie_title\": \"Wreck-It Ralph\", \"total_gross\": 189412677.0, \"director\": \"Rich Moore\"}, {\"movie_title\": \"Frozen\", \"total_gross\": 400738009.0, \"director\": \"Chris Buck\"}, {\"movie_title\": \"Big Hero 6\", \"total_gross\": 222527828.0, \"director\": \"Don Hall\"}, {\"movie_title\": \"Zootopia\", \"total_gross\": 341268248.0, \"director\": \"Byron Howard\"}, {\"movie_title\": \"Moana\", \"total_gross\": 246082029.0, \"director\": \"Ron Clements\"}]}}, {\"mode\": \"vega-lite\"});\n",
       "</script>"
      ],
      "text/plain": [
       "alt.Chart(...)"
      ]
     },
     "execution_count": 11,
     "metadata": {},
     "output_type": "execute_result"
    }
   ],
   "source": [
    "count_bar = alt.Chart(profitable_director, width=500, height=300).mark_bar(color='green', opacity=0.5).encode(\n",
    "            x='director',\n",
    "            y=alt.Y(\"count()\", title=\"Numbers of Movies\")).properties(title='Number of movies each director has made')\n",
    "\n",
    "count_bar"
   ]
  },
  {
   "cell_type": "markdown",
   "metadata": {},
   "source": [
    "In the dataset, some directors have only worked on a single movie. My aim is to compare their profitability with directors who have worked on multiple films. To achieve this, I'll get **the average gross profit from a group of single-movie directors while I calculate each individual average gross profit for directors involved in multiple productions**. I believe this way we can find the connection between the size of numbers and gross profits rather than compare only two big groups such as single-movie directors and multi-movie directors.\n",
    "\n",
    "For this comparative analysis, a **custom function** in a script will be utilized. It will sort the data based on directors' movie counts and compute individual director profitability for in-depth comparison."
   ]
  },
  {
   "cell_type": "code",
   "execution_count": 12,
   "metadata": {},
   "outputs": [
    {
     "data": {
      "text/plain": [
       "(143959841.16666666,\n",
       " {'Wolfgang Reitherman': 107334398.0,\n",
       "  'Ron Clements': 120030687.85714285,\n",
       "  'Gary Trousdale': 134381079.33333334,\n",
       "  'Chris Buck': 285914914.0,\n",
       "  'Mark Dindal': 112341619.0,\n",
       "  'Stephen J. Anderson': 62257508.5,\n",
       "  'Wilfred Jackson': 143075676.5,\n",
       "  'Mike Gabriel': 84755617.0,\n",
       "  'Clyde Geronimi': 171827859.0})"
      ]
     },
     "execution_count": 12,
     "metadata": {},
     "output_type": "execute_result"
    }
   ],
   "source": [
    "# import the custom script\n",
    "import script as ps\n",
    "\n",
    "# run it on the data\n",
    "ave_director = ps.sort_by_movies(profitable_director)\n",
    "ave_director"
   ]
  },
  {
   "cell_type": "markdown",
   "metadata": {},
   "source": [
    "\n",
    "I obtained the calculation result and now need to **convert it into a DataFrame** to visualization"
   ]
  },
  {
   "cell_type": "code",
   "execution_count": 13,
   "metadata": {},
   "outputs": [
    {
     "data": {
      "text/html": [
       "<div>\n",
       "<style scoped>\n",
       "    .dataframe tbody tr th:only-of-type {\n",
       "        vertical-align: middle;\n",
       "    }\n",
       "\n",
       "    .dataframe tbody tr th {\n",
       "        vertical-align: top;\n",
       "    }\n",
       "\n",
       "    .dataframe thead th {\n",
       "        text-align: right;\n",
       "    }\n",
       "</style>\n",
       "<table border=\"1\" class=\"dataframe\">\n",
       "  <thead>\n",
       "    <tr style=\"text-align: right;\">\n",
       "      <th></th>\n",
       "      <th>Name</th>\n",
       "      <th>Average Gross Profit</th>\n",
       "    </tr>\n",
       "  </thead>\n",
       "  <tbody>\n",
       "    <tr>\n",
       "      <th>0</th>\n",
       "      <td>Wolfgang Reitherman</td>\n",
       "      <td>1.073344e+08</td>\n",
       "    </tr>\n",
       "    <tr>\n",
       "      <th>1</th>\n",
       "      <td>Ron Clements</td>\n",
       "      <td>1.200307e+08</td>\n",
       "    </tr>\n",
       "    <tr>\n",
       "      <th>2</th>\n",
       "      <td>Gary Trousdale</td>\n",
       "      <td>1.343811e+08</td>\n",
       "    </tr>\n",
       "    <tr>\n",
       "      <th>3</th>\n",
       "      <td>Chris Buck</td>\n",
       "      <td>2.859149e+08</td>\n",
       "    </tr>\n",
       "    <tr>\n",
       "      <th>4</th>\n",
       "      <td>Mark Dindal</td>\n",
       "      <td>1.123416e+08</td>\n",
       "    </tr>\n",
       "    <tr>\n",
       "      <th>5</th>\n",
       "      <td>Stephen J. Anderson</td>\n",
       "      <td>6.225751e+07</td>\n",
       "    </tr>\n",
       "    <tr>\n",
       "      <th>6</th>\n",
       "      <td>Wilfred Jackson</td>\n",
       "      <td>1.430757e+08</td>\n",
       "    </tr>\n",
       "    <tr>\n",
       "      <th>7</th>\n",
       "      <td>Mike Gabriel</td>\n",
       "      <td>8.475562e+07</td>\n",
       "    </tr>\n",
       "    <tr>\n",
       "      <th>8</th>\n",
       "      <td>Clyde Geronimi</td>\n",
       "      <td>1.718279e+08</td>\n",
       "    </tr>\n",
       "    <tr>\n",
       "      <th>9</th>\n",
       "      <td>Single Movie Maker</td>\n",
       "      <td>1.439598e+08</td>\n",
       "    </tr>\n",
       "  </tbody>\n",
       "</table>\n",
       "</div>"
      ],
      "text/plain": [
       "                  Name  Average Gross Profit\n",
       "0  Wolfgang Reitherman          1.073344e+08\n",
       "1         Ron Clements          1.200307e+08\n",
       "2       Gary Trousdale          1.343811e+08\n",
       "3           Chris Buck          2.859149e+08\n",
       "4          Mark Dindal          1.123416e+08\n",
       "5  Stephen J. Anderson          6.225751e+07\n",
       "6      Wilfred Jackson          1.430757e+08\n",
       "7         Mike Gabriel          8.475562e+07\n",
       "8       Clyde Geronimi          1.718279e+08\n",
       "9   Single Movie Maker          1.439598e+08"
      ]
     },
     "execution_count": 13,
     "metadata": {},
     "output_type": "execute_result"
    }
   ],
   "source": [
    "# Create a DataFrame by transposing the dictionary and renaming the columns\n",
    "df_ave = pd.DataFrame([ave_director[1]]).T.reset_index()\n",
    "df_ave.columns = ['Director', 'Values']\n",
    "\n",
    "# Rename the first column to 'Single_Movie' and the first value of the tuple to match the column\n",
    "df_ave.columns = ['Name', 'Average Gross Profit']\n",
    "\n",
    "# Append the first element of the tuple as a new row to the DataFrame and name it as \"Single Movie Maker\"\n",
    "df_ave.loc[len(df_ave)] = ['Single Movie Maker', ave_director[0]]\n",
    "df_ave"
   ]
  },
  {
   "cell_type": "markdown",
   "metadata": {},
   "source": [
    "Look like I have profer DataFrame but I missed how many movies they made.\n",
    "I'll add the information."
   ]
  },
  {
   "cell_type": "code",
   "execution_count": 14,
   "metadata": {},
   "outputs": [
    {
     "data": {
      "text/html": [
       "<div>\n",
       "<style scoped>\n",
       "    .dataframe tbody tr th:only-of-type {\n",
       "        vertical-align: middle;\n",
       "    }\n",
       "\n",
       "    .dataframe tbody tr th {\n",
       "        vertical-align: top;\n",
       "    }\n",
       "\n",
       "    .dataframe thead th {\n",
       "        text-align: right;\n",
       "    }\n",
       "</style>\n",
       "<table border=\"1\" class=\"dataframe\">\n",
       "  <thead>\n",
       "    <tr style=\"text-align: right;\">\n",
       "      <th></th>\n",
       "      <th>Name</th>\n",
       "      <th>Average Gross Profit</th>\n",
       "      <th>movie_title</th>\n",
       "    </tr>\n",
       "  </thead>\n",
       "  <tbody>\n",
       "    <tr>\n",
       "      <th>0</th>\n",
       "      <td>Wolfgang Reitherman</td>\n",
       "      <td>1.073344e+08</td>\n",
       "      <td>9.0</td>\n",
       "    </tr>\n",
       "    <tr>\n",
       "      <th>1</th>\n",
       "      <td>Ron Clements</td>\n",
       "      <td>1.200307e+08</td>\n",
       "      <td>7.0</td>\n",
       "    </tr>\n",
       "    <tr>\n",
       "      <th>2</th>\n",
       "      <td>Gary Trousdale</td>\n",
       "      <td>1.343811e+08</td>\n",
       "      <td>3.0</td>\n",
       "    </tr>\n",
       "    <tr>\n",
       "      <th>3</th>\n",
       "      <td>Chris Buck</td>\n",
       "      <td>2.859149e+08</td>\n",
       "      <td>2.0</td>\n",
       "    </tr>\n",
       "    <tr>\n",
       "      <th>4</th>\n",
       "      <td>Mark Dindal</td>\n",
       "      <td>1.123416e+08</td>\n",
       "      <td>2.0</td>\n",
       "    </tr>\n",
       "    <tr>\n",
       "      <th>5</th>\n",
       "      <td>Stephen J. Anderson</td>\n",
       "      <td>6.225751e+07</td>\n",
       "      <td>2.0</td>\n",
       "    </tr>\n",
       "    <tr>\n",
       "      <th>6</th>\n",
       "      <td>Wilfred Jackson</td>\n",
       "      <td>1.430757e+08</td>\n",
       "      <td>2.0</td>\n",
       "    </tr>\n",
       "    <tr>\n",
       "      <th>7</th>\n",
       "      <td>Mike Gabriel</td>\n",
       "      <td>8.475562e+07</td>\n",
       "      <td>2.0</td>\n",
       "    </tr>\n",
       "    <tr>\n",
       "      <th>8</th>\n",
       "      <td>Clyde Geronimi</td>\n",
       "      <td>1.718279e+08</td>\n",
       "      <td>2.0</td>\n",
       "    </tr>\n",
       "    <tr>\n",
       "      <th>9</th>\n",
       "      <td>Single Movie Maker</td>\n",
       "      <td>1.439598e+08</td>\n",
       "      <td>NaN</td>\n",
       "    </tr>\n",
       "  </tbody>\n",
       "</table>\n",
       "</div>"
      ],
      "text/plain": [
       "                  Name  Average Gross Profit  movie_title\n",
       "0  Wolfgang Reitherman          1.073344e+08          9.0\n",
       "1         Ron Clements          1.200307e+08          7.0\n",
       "2       Gary Trousdale          1.343811e+08          3.0\n",
       "3           Chris Buck          2.859149e+08          2.0\n",
       "4          Mark Dindal          1.123416e+08          2.0\n",
       "5  Stephen J. Anderson          6.225751e+07          2.0\n",
       "6      Wilfred Jackson          1.430757e+08          2.0\n",
       "7         Mike Gabriel          8.475562e+07          2.0\n",
       "8       Clyde Geronimi          1.718279e+08          2.0\n",
       "9   Single Movie Maker          1.439598e+08          NaN"
      ]
     },
     "execution_count": 14,
     "metadata": {},
     "output_type": "execute_result"
    }
   ],
   "source": [
    "# Merged count_movie DataFrame containing the number of movies counted for each director.\n",
    "director_info = (df_ave.merge(count_movie, \n",
    "                                  left_on='Name', \n",
    "                                  right_on='director', \n",
    "                                  how='left', \n",
    "                                  indicator=True).drop(columns=['director', '_merge']))\n",
    "director_info"
   ]
  },
  {
   "cell_type": "markdown",
   "metadata": {},
   "source": [
    "I know single movie maker is a group of directors who only made one movie for Disney. So I'll To replace the NaN value with 1."
   ]
  },
  {
   "cell_type": "code",
   "execution_count": 15,
   "metadata": {},
   "outputs": [
    {
     "data": {
      "text/html": [
       "<div>\n",
       "<style scoped>\n",
       "    .dataframe tbody tr th:only-of-type {\n",
       "        vertical-align: middle;\n",
       "    }\n",
       "\n",
       "    .dataframe tbody tr th {\n",
       "        vertical-align: top;\n",
       "    }\n",
       "\n",
       "    .dataframe thead th {\n",
       "        text-align: right;\n",
       "    }\n",
       "</style>\n",
       "<table border=\"1\" class=\"dataframe\">\n",
       "  <thead>\n",
       "    <tr style=\"text-align: right;\">\n",
       "      <th></th>\n",
       "      <th>Name</th>\n",
       "      <th>Average Gross Profit</th>\n",
       "      <th>movie_title</th>\n",
       "    </tr>\n",
       "  </thead>\n",
       "  <tbody>\n",
       "    <tr>\n",
       "      <th>0</th>\n",
       "      <td>Wolfgang Reitherman</td>\n",
       "      <td>1.073344e+08</td>\n",
       "      <td>9.0</td>\n",
       "    </tr>\n",
       "    <tr>\n",
       "      <th>1</th>\n",
       "      <td>Ron Clements</td>\n",
       "      <td>1.200307e+08</td>\n",
       "      <td>7.0</td>\n",
       "    </tr>\n",
       "    <tr>\n",
       "      <th>2</th>\n",
       "      <td>Gary Trousdale</td>\n",
       "      <td>1.343811e+08</td>\n",
       "      <td>3.0</td>\n",
       "    </tr>\n",
       "    <tr>\n",
       "      <th>3</th>\n",
       "      <td>Chris Buck</td>\n",
       "      <td>2.859149e+08</td>\n",
       "      <td>2.0</td>\n",
       "    </tr>\n",
       "    <tr>\n",
       "      <th>4</th>\n",
       "      <td>Mark Dindal</td>\n",
       "      <td>1.123416e+08</td>\n",
       "      <td>2.0</td>\n",
       "    </tr>\n",
       "    <tr>\n",
       "      <th>5</th>\n",
       "      <td>Stephen J. Anderson</td>\n",
       "      <td>6.225751e+07</td>\n",
       "      <td>2.0</td>\n",
       "    </tr>\n",
       "    <tr>\n",
       "      <th>6</th>\n",
       "      <td>Wilfred Jackson</td>\n",
       "      <td>1.430757e+08</td>\n",
       "      <td>2.0</td>\n",
       "    </tr>\n",
       "    <tr>\n",
       "      <th>7</th>\n",
       "      <td>Mike Gabriel</td>\n",
       "      <td>8.475562e+07</td>\n",
       "      <td>2.0</td>\n",
       "    </tr>\n",
       "    <tr>\n",
       "      <th>8</th>\n",
       "      <td>Clyde Geronimi</td>\n",
       "      <td>1.718279e+08</td>\n",
       "      <td>2.0</td>\n",
       "    </tr>\n",
       "    <tr>\n",
       "      <th>9</th>\n",
       "      <td>Single Movie Maker</td>\n",
       "      <td>1.439598e+08</td>\n",
       "      <td>1.0</td>\n",
       "    </tr>\n",
       "  </tbody>\n",
       "</table>\n",
       "</div>"
      ],
      "text/plain": [
       "                  Name  Average Gross Profit  movie_title\n",
       "0  Wolfgang Reitherman          1.073344e+08          9.0\n",
       "1         Ron Clements          1.200307e+08          7.0\n",
       "2       Gary Trousdale          1.343811e+08          3.0\n",
       "3           Chris Buck          2.859149e+08          2.0\n",
       "4          Mark Dindal          1.123416e+08          2.0\n",
       "5  Stephen J. Anderson          6.225751e+07          2.0\n",
       "6      Wilfred Jackson          1.430757e+08          2.0\n",
       "7         Mike Gabriel          8.475562e+07          2.0\n",
       "8       Clyde Geronimi          1.718279e+08          2.0\n",
       "9   Single Movie Maker          1.439598e+08          1.0"
      ]
     },
     "execution_count": 15,
     "metadata": {},
     "output_type": "execute_result"
    }
   ],
   "source": [
    "director_info['movie_title'] = director_info['movie_title'].fillna(1)\n",
    "director_info"
   ]
  },
  {
   "cell_type": "markdown",
   "metadata": {},
   "source": [
    "To ascertain a potential proportional relationship between the number of movies and the gross profit, I'll create two bar plots. One will represent the 'Number of Movies by Director,' acting as the **standard of comparison**, while the other will showcase 'Average Gross Profit by Director.' If my hypothesis holds true, these two graphs should exhibit similar shapes.\n",
    "\n",
    "To ensure a fair comparison between the two graphs, I'll sort the data in **ascending order based on the number of movies** per director."
   ]
  },
  {
   "cell_type": "code",
   "execution_count": 16,
   "metadata": {},
   "outputs": [
    {
     "data": {
      "text/html": [
       "\n",
       "<div id=\"altair-viz-5c9b742285884e08b31db66aa64243f8\"></div>\n",
       "<script type=\"text/javascript\">\n",
       "  (function(spec, embedOpt){\n",
       "    let outputDiv = document.currentScript.previousElementSibling;\n",
       "    if (outputDiv.id !== \"altair-viz-5c9b742285884e08b31db66aa64243f8\") {\n",
       "      outputDiv = document.getElementById(\"altair-viz-5c9b742285884e08b31db66aa64243f8\");\n",
       "    }\n",
       "    const paths = {\n",
       "      \"vega\": \"https://cdn.jsdelivr.net/npm//vega@5?noext\",\n",
       "      \"vega-lib\": \"https://cdn.jsdelivr.net/npm//vega-lib?noext\",\n",
       "      \"vega-lite\": \"https://cdn.jsdelivr.net/npm//vega-lite@4.8.1?noext\",\n",
       "      \"vega-embed\": \"https://cdn.jsdelivr.net/npm//vega-embed@6?noext\",\n",
       "    };\n",
       "\n",
       "    function loadScript(lib) {\n",
       "      return new Promise(function(resolve, reject) {\n",
       "        var s = document.createElement('script');\n",
       "        s.src = paths[lib];\n",
       "        s.async = true;\n",
       "        s.onload = () => resolve(paths[lib]);\n",
       "        s.onerror = () => reject(`Error loading script: ${paths[lib]}`);\n",
       "        document.getElementsByTagName(\"head\")[0].appendChild(s);\n",
       "      });\n",
       "    }\n",
       "\n",
       "    function showError(err) {\n",
       "      outputDiv.innerHTML = `<div class=\"error\" style=\"color:red;\">${err}</div>`;\n",
       "      throw err;\n",
       "    }\n",
       "\n",
       "    function displayChart(vegaEmbed) {\n",
       "      vegaEmbed(outputDiv, spec, embedOpt)\n",
       "        .catch(err => showError(`Javascript Error: ${err.message}<br>This usually means there's a typo in your chart specification. See the javascript console for the full traceback.`));\n",
       "    }\n",
       "\n",
       "    if(typeof define === \"function\" && define.amd) {\n",
       "      requirejs.config({paths});\n",
       "      require([\"vega-embed\"], displayChart, err => showError(`Error loading script: ${err.message}`));\n",
       "    } else if (typeof vegaEmbed === \"function\") {\n",
       "      displayChart(vegaEmbed);\n",
       "    } else {\n",
       "      loadScript(\"vega\")\n",
       "        .then(() => loadScript(\"vega-lite\"))\n",
       "        .then(() => loadScript(\"vega-embed\"))\n",
       "        .catch(showError)\n",
       "        .then(() => displayChart(vegaEmbed));\n",
       "    }\n",
       "  })({\"config\": {\"view\": {\"continuousWidth\": 400, \"continuousHeight\": 300}}, \"data\": {\"name\": \"data-12207c2c96a138f3a521681993d875d6\"}, \"mark\": {\"type\": \"bar\", \"color\": \"blue\", \"opacity\": 0.5}, \"encoding\": {\"x\": {\"type\": \"nominal\", \"field\": \"Name\", \"sort\": {\"field\": \"movie_title\", \"order\": \"ascending\"}, \"title\": \"Director\"}, \"y\": {\"type\": \"quantitative\", \"field\": \"movie_title\", \"title\": \"How many movies made\"}}, \"height\": 300, \"title\": \"Number of Movies by Director\", \"width\": 500, \"$schema\": \"https://vega.github.io/schema/vega-lite/v4.8.1.json\", \"datasets\": {\"data-12207c2c96a138f3a521681993d875d6\": [{\"Name\": \"Wolfgang Reitherman\", \"Average Gross Profit\": 107334398.0, \"movie_title\": 9.0}, {\"Name\": \"Ron Clements\", \"Average Gross Profit\": 120030687.85714285, \"movie_title\": 7.0}, {\"Name\": \"Gary Trousdale\", \"Average Gross Profit\": 134381079.33333334, \"movie_title\": 3.0}, {\"Name\": \"Chris Buck\", \"Average Gross Profit\": 285914914.0, \"movie_title\": 2.0}, {\"Name\": \"Mark Dindal\", \"Average Gross Profit\": 112341619.0, \"movie_title\": 2.0}, {\"Name\": \"Stephen J. Anderson\", \"Average Gross Profit\": 62257508.5, \"movie_title\": 2.0}, {\"Name\": \"Wilfred Jackson\", \"Average Gross Profit\": 143075676.5, \"movie_title\": 2.0}, {\"Name\": \"Mike Gabriel\", \"Average Gross Profit\": 84755617.0, \"movie_title\": 2.0}, {\"Name\": \"Clyde Geronimi\", \"Average Gross Profit\": 171827859.0, \"movie_title\": 2.0}, {\"Name\": \"Single Movie Maker\", \"Average Gross Profit\": 143959841.16666666, \"movie_title\": 1.0}]}}, {\"mode\": \"vega-lite\"});\n",
       "</script>"
      ],
      "text/plain": [
       "alt.Chart(...)"
      ]
     },
     "execution_count": 16,
     "metadata": {},
     "output_type": "execute_result"
    }
   ],
   "source": [
    "# Create the bar plot for the comparison\n",
    "Comparison_bar = alt.Chart(director_info, width=500, height=300).mark_bar(color='blue', opacity=0.5).encode(\n",
    "    x=alt.X('Name', sort=alt.EncodingSortField(field='movie_title', order='ascending'), title=\"Director\"),\n",
    "    y=alt.Y('movie_title:Q', title=\"How many movies made\")\n",
    ").properties(\n",
    "    title='Number of Movies by Director'\n",
    ")\n",
    "\n",
    "Comparison_bar"
   ]
  },
  {
   "cell_type": "code",
   "execution_count": 17,
   "metadata": {},
   "outputs": [
    {
     "data": {
      "text/html": [
       "\n",
       "<div id=\"altair-viz-d8adae785d2242ff98e0e3f4a9a41532\"></div>\n",
       "<script type=\"text/javascript\">\n",
       "  (function(spec, embedOpt){\n",
       "    let outputDiv = document.currentScript.previousElementSibling;\n",
       "    if (outputDiv.id !== \"altair-viz-d8adae785d2242ff98e0e3f4a9a41532\") {\n",
       "      outputDiv = document.getElementById(\"altair-viz-d8adae785d2242ff98e0e3f4a9a41532\");\n",
       "    }\n",
       "    const paths = {\n",
       "      \"vega\": \"https://cdn.jsdelivr.net/npm//vega@5?noext\",\n",
       "      \"vega-lib\": \"https://cdn.jsdelivr.net/npm//vega-lib?noext\",\n",
       "      \"vega-lite\": \"https://cdn.jsdelivr.net/npm//vega-lite@4.8.1?noext\",\n",
       "      \"vega-embed\": \"https://cdn.jsdelivr.net/npm//vega-embed@6?noext\",\n",
       "    };\n",
       "\n",
       "    function loadScript(lib) {\n",
       "      return new Promise(function(resolve, reject) {\n",
       "        var s = document.createElement('script');\n",
       "        s.src = paths[lib];\n",
       "        s.async = true;\n",
       "        s.onload = () => resolve(paths[lib]);\n",
       "        s.onerror = () => reject(`Error loading script: ${paths[lib]}`);\n",
       "        document.getElementsByTagName(\"head\")[0].appendChild(s);\n",
       "      });\n",
       "    }\n",
       "\n",
       "    function showError(err) {\n",
       "      outputDiv.innerHTML = `<div class=\"error\" style=\"color:red;\">${err}</div>`;\n",
       "      throw err;\n",
       "    }\n",
       "\n",
       "    function displayChart(vegaEmbed) {\n",
       "      vegaEmbed(outputDiv, spec, embedOpt)\n",
       "        .catch(err => showError(`Javascript Error: ${err.message}<br>This usually means there's a typo in your chart specification. See the javascript console for the full traceback.`));\n",
       "    }\n",
       "\n",
       "    if(typeof define === \"function\" && define.amd) {\n",
       "      requirejs.config({paths});\n",
       "      require([\"vega-embed\"], displayChart, err => showError(`Error loading script: ${err.message}`));\n",
       "    } else if (typeof vegaEmbed === \"function\") {\n",
       "      displayChart(vegaEmbed);\n",
       "    } else {\n",
       "      loadScript(\"vega\")\n",
       "        .then(() => loadScript(\"vega-lite\"))\n",
       "        .then(() => loadScript(\"vega-embed\"))\n",
       "        .catch(showError)\n",
       "        .then(() => displayChart(vegaEmbed));\n",
       "    }\n",
       "  })({\"config\": {\"view\": {\"continuousWidth\": 400, \"continuousHeight\": 300}}, \"data\": {\"name\": \"data-12207c2c96a138f3a521681993d875d6\"}, \"mark\": {\"type\": \"bar\", \"color\": \"pink\", \"opacity\": 0.8}, \"encoding\": {\"x\": {\"type\": \"nominal\", \"field\": \"Name\", \"sort\": {\"field\": \"movie_title\", \"order\": \"ascending\"}, \"title\": \"Director\"}, \"y\": {\"type\": \"quantitative\", \"field\": \"Average Gross Profit\"}}, \"height\": 300, \"title\": \"Average Gross Profit by Director\", \"width\": 500, \"$schema\": \"https://vega.github.io/schema/vega-lite/v4.8.1.json\", \"datasets\": {\"data-12207c2c96a138f3a521681993d875d6\": [{\"Name\": \"Wolfgang Reitherman\", \"Average Gross Profit\": 107334398.0, \"movie_title\": 9.0}, {\"Name\": \"Ron Clements\", \"Average Gross Profit\": 120030687.85714285, \"movie_title\": 7.0}, {\"Name\": \"Gary Trousdale\", \"Average Gross Profit\": 134381079.33333334, \"movie_title\": 3.0}, {\"Name\": \"Chris Buck\", \"Average Gross Profit\": 285914914.0, \"movie_title\": 2.0}, {\"Name\": \"Mark Dindal\", \"Average Gross Profit\": 112341619.0, \"movie_title\": 2.0}, {\"Name\": \"Stephen J. Anderson\", \"Average Gross Profit\": 62257508.5, \"movie_title\": 2.0}, {\"Name\": \"Wilfred Jackson\", \"Average Gross Profit\": 143075676.5, \"movie_title\": 2.0}, {\"Name\": \"Mike Gabriel\", \"Average Gross Profit\": 84755617.0, \"movie_title\": 2.0}, {\"Name\": \"Clyde Geronimi\", \"Average Gross Profit\": 171827859.0, \"movie_title\": 2.0}, {\"Name\": \"Single Movie Maker\", \"Average Gross Profit\": 143959841.16666666, \"movie_title\": 1.0}]}}, {\"mode\": \"vega-lite\"});\n",
       "</script>"
      ],
      "text/plain": [
       "alt.Chart(...)"
      ]
     },
     "execution_count": 17,
     "metadata": {},
     "output_type": "execute_result"
    }
   ],
   "source": [
    "# Creat the bar plot for the relationship with Gross Profit\n",
    "Relationship_bar = alt.Chart(director_info, width=500, height=300).mark_bar(color='pink', opacity=0.8).encode(\n",
    "            x = alt.X('Name', sort=alt.EncodingSortField(field='movie_title', order='ascending'), title=\"Director\"),\n",
    "            y='Average Gross Profit').properties(title='Average Gross Profit by Director')\n",
    "\n",
    "Relationship_bar"
   ]
  },
  {
   "cell_type": "markdown",
   "metadata": {},
   "source": [
    "It appears that the two graphs **do not exhibit a similar shape**.\n",
    "A notable example is the gross profit of the 'Single Movie Maker' group, comprising directors who only made one movie, which surpasses that of Wolfgang Reitherman, despite Reitherman having directed the most movies for Disney."
   ]
  },
  {
   "cell_type": "markdown",
   "metadata": {},
   "source": [
    "### Discussions\n",
    "In this analysis of the Disney dataset, I sought to unveil underlying connections based on my initial observations. Before delving into answering questions, I conducted essential checks, discovering a director who had worked on Disney movies nine times, contrasting with the majority of directors who worked on only a single Disney movie. This revelation sparked the analysis, hinting at potentially significant reasons behind the scenes.\n",
    "\n",
    "The absence of a noticeable correlation between a director's movie count for Disney and the resulting gross profit was surprising. My initial assumptions regarding this relationship might have been too pragmatic or industry-driven. The director with the highest movie count didn't make more profit compared to those who directed only a single Disney movie. This raises the possibility of other factors influencing artistic outcomes.\n",
    "\n",
    "One aspect that leaves me unsatisfied with my analysis is the inability to create a bar plot with two different Y-axis values or merging a bar plot with a scatter plot into a single graph. This approach could have provided a clearer visual representation to show the absence of a correlation between both graphs. I believe gaining proficiency in this area will enhance not only my understanding but also that of the audience. I am eager to learn more in the upcoming classes to improve my analytical and visualization skills."
   ]
  },
  {
   "cell_type": "markdown",
   "metadata": {},
   "source": [
    "### Reference\n",
    "Not all the work in this notebook is original."
   ]
  }
 ],
 "metadata": {
  "kernelspec": {
   "display_name": "Python 3",
   "language": "python",
   "name": "python3"
  },
  "language_info": {
   "codemirror_mode": {
    "name": "ipython",
    "version": 3
   },
   "file_extension": ".py",
   "mimetype": "text/x-python",
   "name": "python",
   "nbconvert_exporter": "python",
   "pygments_lexer": "ipython3",
   "version": "3.8.5"
  }
 },
 "nbformat": 4,
 "nbformat_minor": 4
}
